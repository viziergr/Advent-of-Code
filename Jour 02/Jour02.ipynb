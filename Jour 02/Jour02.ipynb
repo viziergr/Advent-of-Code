{
 "cells": [
  {
   "cell_type": "markdown",
   "metadata": {},
   "source": [
    "# Deuxième jour du Advent of Code 2024\n",
    "\n",
    "Code 1*"
   ]
  },
  {
   "cell_type": "code",
   "execution_count": null,
   "metadata": {},
   "outputs": [
    {
     "name": "stdout",
     "output_type": "stream",
     "text": [
      "314\n"
     ]
    }
   ],
   "source": [
    "def testCroissant(tab):\n",
    "    for i in range(len(tab)-1):\n",
    "        if int(tab[i])>int(tab[i+1]):\n",
    "            return False\n",
    "        elif int(tab[i])==int(tab[i+1]):\n",
    "            return False\n",
    "        else:\n",
    "            end=True\n",
    "    return end\n",
    "\n",
    "def testDecroissant(tab):\n",
    "    end = False\n",
    "    for i in range(len(tab)-1):\n",
    "        if int(tab[i])<int(tab[i+1]):\n",
    "            return False\n",
    "        elif int(tab[i])==int(tab[i+1]):\n",
    "            return False\n",
    "        else:\n",
    "            end=True\n",
    "    return end\n",
    "\n",
    "## Fonction qui regarde si l'écart entre le nombre et le suivant est de 3 ou moins\n",
    "def testDiff(tab):\n",
    "    end = False\n",
    "    for i in range(len(tab)-1):\n",
    "        if abs(int(tab[i])-int(tab[i+1]))<=3:\n",
    "            end=True\n",
    "        else:\n",
    "            return False\n",
    "    return end\n",
    "\n",
    "with open('input.txt') as f:\n",
    "    lines = f.readlines()\n",
    "    \n",
    "def main():\n",
    "    nb_safe = 0\n",
    "    ligne=[]\n",
    "    for i in range(len(lines)):\n",
    "        type = 0 # 0 par défaut, 1 pour augmentant 2 pour descendant\n",
    "        ligne.append(lines[i].split())\n",
    "        if int(ligne[i][0])<int(ligne[i][1]):\n",
    "            type = 1\n",
    "        elif int(ligne[i][0])>int(ligne[i][1]):\n",
    "            type = 2\n",
    "        if int(ligne[i][0])==int(ligne[i][1]):\n",
    "            pass\n",
    "        ## Modifie la liste pour la transformer en liste de nombre\n",
    "\n",
    "        if type==1:\n",
    "            if testCroissant(ligne[i]):\n",
    "                if(testDiff(ligne[i])):\n",
    "                    nb_safe += 1\n",
    "        if type==2:\n",
    "            if testDecroissant(ligne[i]):\n",
    "                if(testDiff(ligne[i])):\n",
    "                    nb_safe += 1\n",
    "    \n",
    "    print(nb_safe)\n",
    "main()"
   ]
  },
  {
   "cell_type": "markdown",
   "metadata": {},
   "source": [
    "Code 2*"
   ]
  },
  {
   "cell_type": "code",
   "execution_count": null,
   "metadata": {},
   "outputs": [
    {
     "name": "stdout",
     "output_type": "stream",
     "text": [
      "314\n"
     ]
    }
   ],
   "source": [
    "def testCroissant(tab):\n",
    "    for i in range(len(tab)-1):\n",
    "        if int(tab[i])>int(tab[i+1]):\n",
    "            return False\n",
    "        elif int(tab[i])==int(tab[i+1]):\n",
    "            return False\n",
    "        else:\n",
    "            end=True\n",
    "    return end\n",
    "\n",
    "def testDecroissant(tab):\n",
    "    end = False\n",
    "    for i in range(len(tab)-1):\n",
    "        if int(tab[i])<int(tab[i+1]):\n",
    "            return False\n",
    "        elif int(tab[i])==int(tab[i+1]):\n",
    "            return False\n",
    "        else:\n",
    "            end=True\n",
    "    return end\n",
    "\n",
    "## Fonction qui regarde si l'écart entre le nombre et le suivant est de 3 ou moins\n",
    "def testDiff(tab):\n",
    "    end = False\n",
    "    for i in range(len(tab)-1):\n",
    "        if abs(int(tab[i])-int(tab[i+1]))<=3:\n",
    "            end=True\n",
    "        else:\n",
    "            return False\n",
    "    return end\n",
    "\n",
    "with open('input.txt') as f:\n",
    "    lines = f.readlines()\n",
    "    \n",
    "def main():\n",
    "    nb_safe = 0\n",
    "    ligne=[]\n",
    "    for i in range(len(lines)):\n",
    "        type = 0 # 0 par défaut, 1 pour augmentant 2 pour descendant\n",
    "        ligne.append(lines[i].split())\n",
    "        if int(ligne[i][0])<int(ligne[i][1]):\n",
    "            type = 1\n",
    "        elif int(ligne[i][0])>int(ligne[i][1]):\n",
    "            type = 2\n",
    "        if int(ligne[i][0])==int(ligne[i][1]):\n",
    "            pass\n",
    "        ## Modifie la liste pour la transformer en liste de nombre\n",
    "\n",
    "        if type==1:\n",
    "            if testCroissant(ligne[i]):\n",
    "                if(testDiff(ligne[i])):\n",
    "                    nb_safe += 1\n",
    "        if type==2:\n",
    "            if testDecroissant(ligne[i]):\n",
    "                if(testDiff(ligne[i])):\n",
    "                    nb_safe += 1\n",
    "    \n",
    "    print(nb_safe)\n",
    "main()"
   ]
  }
 ],
 "metadata": {
  "kernelspec": {
   "display_name": "Python 3",
   "language": "python",
   "name": "python3"
  },
  "language_info": {
   "codemirror_mode": {
    "name": "ipython",
    "version": 3
   },
   "file_extension": ".py",
   "mimetype": "text/x-python",
   "name": "python",
   "nbconvert_exporter": "python",
   "pygments_lexer": "ipython3",
   "version": "3.11.9"
  }
 },
 "nbformat": 4,
 "nbformat_minor": 2
}
