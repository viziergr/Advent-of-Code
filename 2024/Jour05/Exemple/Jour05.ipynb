{
 "cells": [
  {
   "cell_type": "markdown",
   "metadata": {},
   "source": [
    "# Cinquième jour du Advent of Code 2024\n",
    "\n",
    "Code 1*"
   ]
  },
  {
   "cell_type": "code",
   "execution_count": 44,
   "metadata": {},
   "outputs": [],
   "source": [
    "## Séparation du fichier input en deux fichiers\n",
    "\n",
    "with open('input.txt', 'r') as f:\n",
    "    moitie = False\n",
    "    instr = []\n",
    "    list = []\n",
    "    lines = f.readlines()\n",
    "    for line in lines:   \n",
    "        if line == '\\n':\n",
    "            moitie = True\n",
    "        if moitie == True:\n",
    "            list.append(line)\n",
    "        if moitie == False:\n",
    "            instr.append(line)\n",
    "            \n",
    "    with open('instr.txt', 'w') as f1:\n",
    "        for line in instr:\n",
    "            f1.write(line)\n",
    "    with open('list.txt', 'w') as f2:\n",
    "        for line in list:\n",
    "            f2.write(line)\n",
    "            \n"
   ]
  },
  {
   "cell_type": "code",
   "execution_count": 45,
   "metadata": {},
   "outputs": [],
   "source": [
    "def checkPresence(tab, nb):\n",
    "    for i in range(len(tab)):\n",
    "        if(tab[i][0]) == nb:\n",
    "            return True, i\n",
    "    return False, False"
   ]
  },
  {
   "cell_type": "code",
   "execution_count": 46,
   "metadata": {},
   "outputs": [],
   "source": [
    "def creationSet(fichier):\n",
    "    tab = []\n",
    "    for line in fichier:\n",
    "        tabIndice = []\n",
    "        tabSet = set([])\n",
    "        tabLine = []\n",
    "        line = line.strip().split('|')\n",
    "        present, indice = checkPresence(tab,line[0])\n",
    "        \n",
    "        if(present):\n",
    "            tabSet = tab[indice][1]\n",
    "            tabSet.add(line[1])\n",
    "            \n",
    "        if not present:\n",
    "            tabIndice = line[0]\n",
    "            tabSet.add(line[1])\n",
    "            tabLine.append(tabIndice)\n",
    "            tabLine.append(tabSet)\n",
    "            tab.append(tabLine)\n",
    "        \n",
    "    return tab"
   ]
  },
  {
   "cell_type": "code",
   "execution_count": null,
   "metadata": {},
   "outputs": [],
   "source": [
    "def checkLigne(ligne, tab):\n",
    "    for k in range(len(tab)):\n",
    "        for i in range(len(ligne)):\n",
    "            for j in range(i, len(ligne)):\n",
    "                if(tab[k][0]==tab[])\n",
    "                setNum = tab[k][1]\n",
    "                if (ligne[j] in setNum):\n",
    "                    return True\n",
    "    return False"
   ]
  },
  {
   "cell_type": "code",
   "execution_count": 51,
   "metadata": {},
   "outputs": [
    {
     "name": "stdout",
     "output_type": "stream",
     "text": [
      "[['47', {'13', '29', '61', '53'}], ['97', {'13', '61', '29', '47', '75', '53'}], ['75', {'61', '13', '29', '47', '53'}], ['61', {'13', '29', '53'}], ['29', {'13'}], ['53', {'13', '29'}]]\n",
      "False\n",
      "False\n",
      "False\n",
      "False\n",
      "False\n",
      "False\n"
     ]
    }
   ],
   "source": [
    "with open(\"instr.txt\", 'r') as f:\n",
    "    content = f.readlines()\n",
    "\n",
    "with open(\"list.txt\", 'r') as f2:\n",
    "    liste = f2.readlines()\n",
    "\n",
    "tab = creationSet(content)\n",
    "print(tab)\n",
    "for ligne in liste:\n",
    "    print (checkLigne(ligne, tab))\n",
    "    "
   ]
  },
  {
   "cell_type": "markdown",
   "metadata": {},
   "source": [
    "Code 2*"
   ]
  },
  {
   "cell_type": "code",
   "execution_count": null,
   "metadata": {},
   "outputs": [],
   "source": []
  }
 ],
 "metadata": {
  "kernelspec": {
   "display_name": "Python 3",
   "language": "python",
   "name": "python3"
  },
  "language_info": {
   "codemirror_mode": {
    "name": "ipython",
    "version": 3
   },
   "file_extension": ".py",
   "mimetype": "text/x-python",
   "name": "python",
   "nbconvert_exporter": "python",
   "pygments_lexer": "ipython3",
   "version": "3.11.9"
  }
 },
 "nbformat": 4,
 "nbformat_minor": 2
}
