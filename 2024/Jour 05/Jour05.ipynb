{
 "cells": [
  {
   "cell_type": "markdown",
   "metadata": {},
   "source": [
    "# Cinquième jour du Advent of Code 2024\n",
    "\n",
    "Code 1*"
   ]
  },
  {
   "cell_type": "code",
   "execution_count": 1,
   "metadata": {},
   "outputs": [],
   "source": [
    "## Séparation du fichier input en deux fichiers\n",
    "\n",
    "with open('input.txt', 'r') as f:\n",
    "    moitie = False\n",
    "    instr = []\n",
    "    list = []\n",
    "    lines = f.readlines()\n",
    "    for line in lines:   \n",
    "        if line == '\\n':\n",
    "            moitie = True\n",
    "        if moitie == True:\n",
    "            list.append(line)\n",
    "                \n",
    "        if moitie == False:\n",
    "            instr.append(line)\n",
    "            \n",
    "    with open('instr.txt', 'w') as f1:\n",
    "        for line in instr:\n",
    "            f1.write(line)\n",
    "    with open('list.txt', 'w') as f2:\n",
    "        for line in list:\n",
    "            f2.write(line)\n",
    "            \n"
   ]
  },
  {
   "cell_type": "code",
   "execution_count": null,
   "metadata": {},
   "outputs": [],
   "source": [
    "def creationSet(fichier):\n",
    "    tab = []\n",
    "    tabLine = []\n",
    "    for line in fichier:\n",
    "        line = line.split('|')\n",
    "        "
   ]
  },
  {
   "cell_type": "markdown",
   "metadata": {},
   "source": [
    "Code 2*"
   ]
  },
  {
   "cell_type": "code",
   "execution_count": null,
   "metadata": {},
   "outputs": [],
   "source": []
  }
 ],
 "metadata": {
  "kernelspec": {
   "display_name": "Python 3",
   "language": "python",
   "name": "python3"
  },
  "language_info": {
   "codemirror_mode": {
    "name": "ipython",
    "version": 3
   },
   "file_extension": ".py",
   "mimetype": "text/x-python",
   "name": "python",
   "nbconvert_exporter": "python",
   "pygments_lexer": "ipython3",
   "version": "3.11.9"
  }
 },
 "nbformat": 4,
 "nbformat_minor": 2
}
