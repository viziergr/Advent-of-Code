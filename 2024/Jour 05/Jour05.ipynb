{
 "cells": [
  {
   "cell_type": "markdown",
   "metadata": {},
   "source": [
    "# Cinquième jour du Advent of Code 2024\n",
    "\n",
    "Code 1*"
   ]
  },
  {
   "cell_type": "code",
   "execution_count": 1,
   "metadata": {},
   "outputs": [],
   "source": [
    "## Séparation du fichier input en deux fichiers\n",
    "\n",
    "with open('input.txt', 'r') as f:\n",
    "    moitie = False\n",
    "    instr = []\n",
    "    list = []\n",
    "    lines = f.readlines()\n",
    "    for line in lines:   \n",
    "        if moitie == True:\n",
    "            list.append(line)\n",
    "        \n",
    "        if line == '\\n':\n",
    "            moitie = True\n",
    "\n",
    "        if moitie == False:\n",
    "            instr.append(line)\n",
    "\n",
    "    with open('instr.txt', 'w') as f1:\n",
    "        for line in instr:\n",
    "            f1.write(line)\n",
    "            \n",
    "    with open('list.txt', 'w') as f2:\n",
    "        for line in list:\n",
    "            f2.write(line)\n",
    "            \n"
   ]
  },
  {
   "cell_type": "code",
   "execution_count": 2,
   "metadata": {},
   "outputs": [],
   "source": [
    "def checkPresence(tab, nb):\n",
    "    for i in range(len(tab)):\n",
    "        if(tab[i][0]) == nb:\n",
    "            return True, i\n",
    "    return False, False"
   ]
  },
  {
   "cell_type": "code",
   "execution_count": 3,
   "metadata": {},
   "outputs": [],
   "source": [
    "def creationSet(fichier, tab):\n",
    "    for line in fichier:\n",
    "        tabIndice = []\n",
    "        tabSet = set([])\n",
    "        tabLine = []\n",
    "        line = line.strip().split('|')\n",
    "        present, indice = checkPresence(tab,line[0])\n",
    "        \n",
    "        if(present):\n",
    "            tabSet = tab[indice][1]\n",
    "            tabSet.add(line[1])\n",
    "            \n",
    "        if not present:\n",
    "            tabIndice = line[0]\n",
    "            tabSet.add(line[1])\n",
    "            tabLine.append(tabIndice)\n",
    "            tabLine.append(tabSet)\n",
    "            tab.append(tabLine)\n",
    "        \n",
    "    return tab"
   ]
  },
  {
   "cell_type": "code",
   "execution_count": 4,
   "metadata": {},
   "outputs": [],
   "source": [
    "def chercheSet(nombre, tab):\n",
    "    \"\"\"\n",
    "    Cherche le set correspondant au nombre\n",
    "    \"\"\"\n",
    "    for ligne in tab:\n",
    "        if int(ligne[0]) == nombre:\n",
    "            return ligne"
   ]
  },
  {
   "cell_type": "code",
   "execution_count": 5,
   "metadata": {},
   "outputs": [],
   "source": [
    "def checkLigne(ligne, tab):\n",
    "    \"\"\"\n",
    "    Je regarde l'élément i de la ligne\n",
    "    Pour chaque élément entre le premier et l'élément I, je regarde si les éléments précédents sont dans le set de I\n",
    "    S'il est dans le set : Renvoie False\n",
    "    S'il est pas dans le set: renvoie True\n",
    "    \"\"\"\n",
    "    end = False\n",
    "    setLigne = set([])\n",
    "    for i in range(len(ligne)):\n",
    "        for j in range(0, i):\n",
    "            setLigne = chercheSet(int(ligne[i]), tab)\n",
    "            # print(\"Le nombre\", ligne[j], \"est dans\", setLigne)\n",
    "            if(setLigne == None):\n",
    "                end = False\n",
    "            elif(ligne[j] in setLigne[1]):\n",
    "                return False \n",
    "    end = True\n",
    "    return end"
   ]
  },
  {
   "cell_type": "code",
   "execution_count": 6,
   "metadata": {},
   "outputs": [],
   "source": [
    "def recupMiddle(ligne):\n",
    "    return(int(ligne[int(len(ligne)/2)]))"
   ]
  },
  {
   "cell_type": "code",
   "execution_count": 7,
   "metadata": {},
   "outputs": [
    {
     "ename": "ValueError",
     "evalue": "invalid literal for int() with base 10: ','",
     "output_type": "error",
     "traceback": [
      "\u001b[1;31m---------------------------------------------------------------------------\u001b[0m",
      "\u001b[1;31mValueError\u001b[0m                                Traceback (most recent call last)",
      "Cell \u001b[1;32mIn[7], line 14\u001b[0m\n\u001b[0;32m     11\u001b[0m somme \u001b[38;5;241m=\u001b[39m \u001b[38;5;241m0\u001b[39m\n\u001b[0;32m     13\u001b[0m \u001b[38;5;28;01mfor\u001b[39;00m ligne \u001b[38;5;129;01min\u001b[39;00m liste:\n\u001b[1;32m---> 14\u001b[0m     \u001b[38;5;28;01mif\u001b[39;00m \u001b[43mcheckLigne\u001b[49m\u001b[43m(\u001b[49m\u001b[43mligne\u001b[49m\u001b[43m,\u001b[49m\u001b[43m \u001b[49m\u001b[43mtab\u001b[49m\u001b[43m)\u001b[49m:\n\u001b[0;32m     15\u001b[0m         somme \u001b[38;5;241m+\u001b[39m\u001b[38;5;241m=\u001b[39m recupMiddle(ligne)\n\u001b[0;32m     17\u001b[0m \u001b[38;5;28mprint\u001b[39m(somme)\n",
      "Cell \u001b[1;32mIn[5], line 12\u001b[0m, in \u001b[0;36mcheckLigne\u001b[1;34m(ligne, tab)\u001b[0m\n\u001b[0;32m     10\u001b[0m \u001b[38;5;28;01mfor\u001b[39;00m i \u001b[38;5;129;01min\u001b[39;00m \u001b[38;5;28mrange\u001b[39m(\u001b[38;5;28mlen\u001b[39m(ligne)):\n\u001b[0;32m     11\u001b[0m     \u001b[38;5;28;01mfor\u001b[39;00m j \u001b[38;5;129;01min\u001b[39;00m \u001b[38;5;28mrange\u001b[39m(\u001b[38;5;241m0\u001b[39m, i):\n\u001b[1;32m---> 12\u001b[0m         setLigne \u001b[38;5;241m=\u001b[39m chercheSet(\u001b[38;5;28;43mint\u001b[39;49m\u001b[43m(\u001b[49m\u001b[43mligne\u001b[49m\u001b[43m[\u001b[49m\u001b[43mi\u001b[49m\u001b[43m]\u001b[49m\u001b[43m)\u001b[49m, tab)\n\u001b[0;32m     13\u001b[0m         \u001b[38;5;66;03m# print(\"Le nombre\", ligne[j], \"est dans\", setLigne)\u001b[39;00m\n\u001b[0;32m     14\u001b[0m         \u001b[38;5;28;01mif\u001b[39;00m(setLigne \u001b[38;5;241m==\u001b[39m \u001b[38;5;28;01mNone\u001b[39;00m):\n",
      "\u001b[1;31mValueError\u001b[0m: invalid literal for int() with base 10: ','"
     ]
    }
   ],
   "source": [
    "with open(\"instr.txt\", 'r') as f:\n",
    "    content = f.readlines()\n",
    "\n",
    "with open(\"list.txt\", 'r') as f2:\n",
    "    liste = f2.readlines()\n",
    "\n",
    "tab_vide = []\n",
    "\n",
    "tab = creationSet(content, tab_vide)\n",
    "\n",
    "somme = 0\n",
    "\n",
    "for ligne in liste:\n",
    "    if checkLigne(ligne, tab):\n",
    "        somme += recupMiddle(ligne)\n",
    "\n",
    "print(somme)\n"
   ]
  }
 ],
 "metadata": {
  "kernelspec": {
   "display_name": "Python 3",
   "language": "python",
   "name": "python3"
  },
  "language_info": {
   "codemirror_mode": {
    "name": "ipython",
    "version": 3
   },
   "file_extension": ".py",
   "mimetype": "text/x-python",
   "name": "python",
   "nbconvert_exporter": "python",
   "pygments_lexer": "ipython3",
   "version": "3.11.9"
  }
 },
 "nbformat": 4,
 "nbformat_minor": 2
}
