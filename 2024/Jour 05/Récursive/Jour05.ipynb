{
 "cells": [
  {
   "cell_type": "markdown",
   "metadata": {},
   "source": [
    "# Cinquième jour du Advent of Code 2024\n",
    "\n",
    "Code 1*"
   ]
  },
  {
   "cell_type": "code",
   "execution_count": 1,
   "metadata": {},
   "outputs": [],
   "source": [
    "## Séparation du fichier input en deux fichiers\n",
    "\n",
    "with open('input.txt', 'r') as f:\n",
    "    moitie = False\n",
    "    instr = []\n",
    "    list = []\n",
    "    lines = f.readlines()\n",
    "    for line in lines:   \n",
    "        if moitie == True:\n",
    "            list.append(line)\n",
    "\n",
    "        if line == '\\n':\n",
    "            moitie = True\n",
    "\n",
    "        if moitie == False:\n",
    "            instr.append(line)\n",
    "            \n",
    "    with open('instr.txt', 'w') as f1:\n",
    "        for line in instr:\n",
    "            f1.write(line)\n",
    "    with open('list.txt', 'w') as f2:\n",
    "        for line in list:\n",
    "            f2.write(line)\n",
    "            \n"
   ]
  },
  {
   "cell_type": "code",
   "execution_count": 2,
   "metadata": {},
   "outputs": [],
   "source": [
    "def checkPresence(tab, nb):\n",
    "    for i in range(len(tab)):\n",
    "        if(tab[i][0]) == nb:\n",
    "            return True, i\n",
    "    return False, False"
   ]
  },
  {
   "cell_type": "code",
   "execution_count": 3,
   "metadata": {},
   "outputs": [],
   "source": [
    "def creationSet(fichier, tab):\n",
    "    for line in fichier:\n",
    "        tabIndice = []\n",
    "        tabSet = set([])\n",
    "        tabLine = []\n",
    "        line = line.strip().split('|')\n",
    "        present, indice = checkPresence(tab,line[0])\n",
    "        \n",
    "        if(present):\n",
    "            tabSet = tab[indice][1]\n",
    "            tabSet.add(line[1])\n",
    "            \n",
    "        if not present:\n",
    "            tabIndice = line[0]\n",
    "            tabSet.add(line[1])\n",
    "            tabLine.append(tabIndice)\n",
    "            tabLine.append(tabSet)\n",
    "            tab.append(tabLine)\n",
    "        \n",
    "    return tab"
   ]
  },
  {
   "cell_type": "code",
   "execution_count": 4,
   "metadata": {},
   "outputs": [],
   "source": [
    "def chercheSet(nombre, tab):\n",
    "    \"\"\"\n",
    "    Cherche le set correspondant au nombre\n",
    "    \"\"\"\n",
    "    for ligne in tab:\n",
    "        if int(ligne[0]) == nombre:\n",
    "            return ligne"
   ]
  },
  {
   "cell_type": "code",
   "execution_count": 5,
   "metadata": {},
   "outputs": [],
   "source": [
    "def checkLigne(ligne, tab):\n",
    "    \"\"\"\n",
    "    Je regarde l'élément i de la ligne\n",
    "    Pour chaque élément entre le premier et l'élément I, je regarde si les éléments précédents sont dans le set de I\n",
    "    S'il est dans le set : Renvoie False\n",
    "    S'il est pas dans le set: renvoie True\n",
    "    \"\"\"\n",
    "    end = False\n",
    "    setLigne = set([])\n",
    "    for i in range(len(ligne)):\n",
    "        for j in range(0, i):\n",
    "            setLigne = chercheSet(int(ligne[i]), tab)\n",
    "            # print(\"Le nombre\", ligne[j], \"est dans\", setLigne)\n",
    "            if(setLigne == None):\n",
    "                end = False\n",
    "            elif(ligne[j] in setLigne[1]):\n",
    "                return False \n",
    "    end = True\n",
    "    return end"
   ]
  },
  {
   "cell_type": "code",
   "execution_count": 6,
   "metadata": {},
   "outputs": [],
   "source": [
    "def recupMiddle(ligne):\n",
    "    return(int(ligne[int(len(ligne)/2)]))"
   ]
  },
  {
   "cell_type": "code",
   "execution_count": 7,
   "metadata": {},
   "outputs": [],
   "source": [
    "def locateErrorLigne(ligne, tab):\n",
    "    \"\"\"\n",
    "    Je parcours le tableau\n",
    "    pour chaque élément I, je regarde s'il vérifie la regle pour chaque élément le précédent\n",
    "    Si la regle est vérifiée, pas de problème. Sinon, je déplace l'élément qui gène devant l'élément I\n",
    "    \"\"\"\n",
    "    end = False\n",
    "    setLigne = set([])\n",
    "    for i in range(len(ligne)):\n",
    "        for j in range(0, i):\n",
    "            setLigne = chercheSet(int(ligne[i]), tab)\n",
    "            if(setLigne == None):\n",
    "                pass\n",
    "            elif(ligne[j] in setLigne[1]):\n",
    "                return ligne[j], ligne[i]"
   ]
  },
  {
   "cell_type": "code",
   "execution_count": 8,
   "metadata": {},
   "outputs": [],
   "source": [
    "def removeErrorLigne(droite, gauche, ligne):\n",
    "    \"\"\"\n",
    "    Déplace l'élément droite pour le placer à la coordonnée gauche +1 de la ligne, dans une liste\n",
    "    \"\"\"\n",
    "    ## Récupère les indices de gauche et droite\n",
    "    indiceDroite = ligne.index(droite)\n",
    "    indiceGauche = ligne.index(gauche)\n",
    "\n",
    "    ## Déplace l'élément droite à la coordonnée gauche +1\n",
    "    ligne.remove(droite)\n",
    "    ligne.insert(indiceGauche+1, droite)\n",
    "\n",
    "    return ligne"
   ]
  },
  {
   "cell_type": "code",
   "execution_count": 9,
   "metadata": {},
   "outputs": [
    {
     "name": "stdout",
     "output_type": "stream",
     "text": [
      "[['75', '97', '47', '61', '53'], ['61', '13', '29'], ['97', '13', '75', '29', '47']]\n"
     ]
    }
   ],
   "source": [
    "with open(\"instr.txt\", 'r') as f:\n",
    "    content = f.readlines()\n",
    "\n",
    "with open(\"list.txt\", 'r') as f2:\n",
    "    liste = f2.readlines()\n",
    "\n",
    "newListe = []\n",
    "\n",
    "for ligne in liste:\n",
    "    newListe.append(ligne.strip().split(','))\n",
    "\n",
    "tabFaux = []\n",
    "\n",
    "tab_vide = []\n",
    "\n",
    "tab = creationSet(content, tab_vide)\n",
    "\n",
    "somme = 0\n",
    "\n",
    "for ligne in newListe:\n",
    "    if checkLigne(ligne, tab):\n",
    "        somme += recupMiddle(ligne)\n",
    "    else:\n",
    "        tabFaux.append(ligne)\n",
    "\n",
    "print(tabFaux)\n"
   ]
  },
  {
   "cell_type": "code",
   "execution_count": 10,
   "metadata": {},
   "outputs": [],
   "source": [
    "# somme = 0\n",
    "\n",
    "# testTab = [['78', '34', '43', '71', '33', '77', '93', '22', '17', '74', '73', '75', '97']]\n",
    "\n",
    "# for ligne in tabFaux:\n",
    "#     count = 0\n",
    "#     while not checkLigne(ligne, tab):\n",
    "#         ligne = removeErrorLigne(locateErrorLigne(ligne, tab)[0], locateErrorLigne(ligne, tab)[1], ligne)\n",
    "#         count += 1\n",
    "#     somme += recupMiddle(ligne)\n",
    "\n",
    "# print(somme)"
   ]
  },
  {
   "cell_type": "code",
   "execution_count": null,
   "metadata": {},
   "outputs": [],
   "source": []
  }
 ],
 "metadata": {
  "kernelspec": {
   "display_name": "Python 3",
   "language": "python",
   "name": "python3"
  },
  "language_info": {
   "codemirror_mode": {
    "name": "ipython",
    "version": 3
   },
   "file_extension": ".py",
   "mimetype": "text/x-python",
   "name": "python",
   "nbconvert_exporter": "python",
   "pygments_lexer": "ipython3",
   "version": "3.11.9"
  }
 },
 "nbformat": 4,
 "nbformat_minor": 2
}
