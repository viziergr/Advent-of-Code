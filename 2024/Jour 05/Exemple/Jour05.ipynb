{
 "cells": [
  {
   "cell_type": "markdown",
   "metadata": {},
   "source": [
    "# Cinquième jour du Advent of Code 2024\n",
    "\n",
    "Code 1*"
   ]
  },
  {
   "cell_type": "code",
   "execution_count": 1,
   "metadata": {},
   "outputs": [],
   "source": [
    "## Séparation du fichier input en deux fichiers\n",
    "\n",
    "with open('input.txt', 'r') as f:\n",
    "    moitie = False\n",
    "    instr = []\n",
    "    list = []\n",
    "    lines = f.readlines()\n",
    "    for line in lines:   \n",
    "        if moitie == True:\n",
    "            list.append(line)\n",
    "\n",
    "        if line == '\\n':\n",
    "            moitie = True\n",
    "\n",
    "        if moitie == False:\n",
    "            instr.append(line)\n",
    "            \n",
    "    with open('instr.txt', 'w') as f1:\n",
    "        for line in instr:\n",
    "            f1.write(line)\n",
    "    with open('list.txt', 'w') as f2:\n",
    "        for line in list:\n",
    "            f2.write(line)\n",
    "            \n"
   ]
  },
  {
   "cell_type": "code",
   "execution_count": 2,
   "metadata": {},
   "outputs": [],
   "source": [
    "def checkPresence(tab, nb):\n",
    "    for i in range(len(tab)):\n",
    "        if(tab[i][0]) == nb:\n",
    "            return True, i\n",
    "    return False, False"
   ]
  },
  {
   "cell_type": "code",
   "execution_count": 3,
   "metadata": {},
   "outputs": [],
   "source": [
    "def creationSet(fichier, tab):\n",
    "    for line in fichier:\n",
    "        tabIndice = []\n",
    "        tabSet = set([])\n",
    "        tabLine = []\n",
    "        line = line.strip().split('|')\n",
    "        present, indice = checkPresence(tab,line[0])\n",
    "        \n",
    "        if(present):\n",
    "            tabSet = tab[indice][1]\n",
    "            tabSet.add(line[1])\n",
    "            \n",
    "        if not present:\n",
    "            tabIndice = line[0]\n",
    "            tabSet.add(line[1])\n",
    "            tabLine.append(tabIndice)\n",
    "            tabLine.append(tabSet)\n",
    "            tab.append(tabLine)\n",
    "        \n",
    "    return tab"
   ]
  },
  {
   "cell_type": "code",
   "execution_count": 4,
   "metadata": {},
   "outputs": [],
   "source": [
    "def chercheSet(nombre, tab):\n",
    "    \"\"\"\n",
    "    Cherche le set correspondant au nombre\n",
    "    \"\"\"\n",
    "    for ligne in tab:\n",
    "        if int(ligne[0]) == nombre:\n",
    "            return ligne"
   ]
  },
  {
   "cell_type": "code",
   "execution_count": 5,
   "metadata": {},
   "outputs": [],
   "source": [
    "def checkLigne(ligne, tab):\n",
    "    \"\"\"\n",
    "    Je regarde l'élément i de la ligne\n",
    "    Pour chaque élément entre le premier et l'élément I, je regarde si les éléments précédents sont dans le set de I\n",
    "    S'il est dans le set : Renvoie False\n",
    "    S'il est pas dans le set: renvoie True\n",
    "    \"\"\"\n",
    "    end = False\n",
    "    setLigne = set([])\n",
    "    for i in range(len(ligne)):\n",
    "        for j in range(0, i):\n",
    "            setLigne = chercheSet(int(ligne[i]), tab)\n",
    "            # print(\"Le nombre\", ligne[j], \"est dans\", setLigne)\n",
    "            if(setLigne == None):\n",
    "                end = False\n",
    "            elif(ligne[j] in setLigne[1]):\n",
    "                return False \n",
    "    end = True\n",
    "    return end"
   ]
  },
  {
   "cell_type": "code",
   "execution_count": 6,
   "metadata": {},
   "outputs": [],
   "source": [
    "def recupMiddle(ligne):\n",
    "    return(int(ligne[int(len(ligne)/2)]))"
   ]
  },
  {
   "cell_type": "code",
   "execution_count": 7,
   "metadata": {},
   "outputs": [],
   "source": [
    "def locateErrorLigne(ligne, tab):\n",
    "    \"\"\"\n",
    "    Je parcours le tableau\n",
    "    pour chaque élément I, je regarde s'il vérifie la regle pour chaque élément le précédent\n",
    "    Si la regle est vérifiée, pas de problème. Sinon, je déplace l'élément qui gène devant l'élément I\n",
    "    \"\"\"\n",
    "    end = False\n",
    "    setLigne = set([])\n",
    "    for i in range(len(ligne)):\n",
    "        for j in range(0, i):\n",
    "            setLigne = chercheSet(int(ligne[i]), tab)\n",
    "            if(setLigne == None):\n",
    "                pass\n",
    "            elif(ligne[j] in setLigne[1]):\n",
    "                return ligne[j], ligne[i]"
   ]
  },
  {
   "cell_type": "code",
   "execution_count": 8,
   "metadata": {},
   "outputs": [],
   "source": [
    "def removeErrorLigne(droite, gauche, ligne):\n",
    "    \"\"\"\n",
    "    Déplace l'élément droite pour le placer à la coordonnée gauche +1 de la ligne, dans une liste\n",
    "    \"\"\"\n",
    "    ## Récupère les indices de gauche et droite\n",
    "    indiceDroite = ligne.index(droite)\n",
    "    indiceGauche = ligne.index(gauche)\n",
    "\n",
    "    ## Déplace l'élément droite à la coordonnée gauche +1\n",
    "    ligne.remove(droite)\n",
    "    ligne.insert(indiceGauche+1, droite)\n",
    "\n",
    "    return ligne"
   ]
  },
  {
   "cell_type": "code",
   "execution_count": 9,
   "metadata": {},
   "outputs": [
    {
     "name": "stdout",
     "output_type": "stream",
     "text": [
      "[['78', '34', '43', '71', '33', '77', '93', '22', '17', '74', '73', '75', '97'], ['99', '98', '27', '57', '84', '61', '39', '51', '24', '81', '33'], ['13', '56', '33', '78', '96', '44', '94'], ['28', '98', '39', '51', '83', '78', '97', '24', '54', '93', '69', '94', '73', '71', '27', '34', '74'], ['82', '72', '61', '69', '38', '64', '63', '45', '42', '83', '48', '85', '99', '13', '89'], ['57', '72', '81', '21', '27', '97', '13', '84', '78', '68', '85', '63', '83', '61', '45'], ['34', '93', '78', '48', '22', '98', '71', '29', '39', '24', '17'], ['68', '27', '99', '69', '85', '61', '64', '97', '56'], ['77', '75', '24', '34', '19', '17', '71', '94', '43', '48', '73', '28', '98', '96', '33', '51', '78', '93', '29', '39', '27', '74', '22'], ['93', '75', '95', '63', '98', '74', '96'], ['61', '78', '94', '99', '97', '82', '42', '98', '24'], ['33', '57', '51', '98', '82', '81', '97', '44', '22'], ['22', '19', '38', '43', '73', '28', '77', '78', '75', '29', '96', '98', '17', '54', '94', '48', '74'], ['33', '61', '69', '42', '71', '97', '98', '45', '13'], ['28', '77', '99', '29', '14', '21', '72', '75', '43', '48', '64', '42', '57', '89', '81', '85', '82'], ['85', '74', '89', '34', '71', '48', '63', '19', '82', '28', '12', '17', '96', '14', '75', '64', '43', '38', '21', '77', '29'], ['99', '12', '83', '61', '68', '82', '13', '81', '56', '63', '89', '42', '85', '21', '97', '57', '64', '44', '95', '69', '84', '45', '14'], ['45', '61', '69', '99', '33', '56', '68'], ['69', '99', '13', '63', '89', '38', '64', '21', '12', '42', '84', '57', '83', '68', '14', '81', '95', '61', '45'], ['45', '74', '98', '24', '84', '94', '39', '69', '51', '19', '83', '44', '54', '96', '27', '78', '17', '33', '42', '93', '22'], ['43', '42', '61', '72', '38', '68', '99', '29', '81', '12', '84'], ['93', '17', '34', '72', '48', '38', '14', '75', '74', '85', '71', '19', '28', '96', '95'], ['73', '77', '19', '78', '75', '24', '94', '39', '96', '48', '27'], ['28', '17', '89', '81', '99', '63', '74', '73', '75', '77', '43', '29', '14', '96', '95'], ['27', '73', '39', '71', '96', '78', '51', '54', '74', '97', '22'], ['39', '13', '21', '27', '81', '56', '89', '72', '68', '85', '69', '63', '84', '99', '83', '44', '33'], ['84', '24', '56', '51', '27', '93', '97', '13', '22', '94', '98', '78', '83', '81', '33', '69', '44'], ['74', '21', '81', '63', '12', '75', '89', '95', '96', '64', '17'], ['34', '93', '28', '94', '19', '73', '97', '43', '75', '17', '54', '27', '22', '98', '51', '39', '77', '96', '78', '71', '33', '24', '29'], ['95', '74', '48', '73', '14', '77', '28', '17', '85', '89', '63', '21', '82', '81', '43', '75', '29', '34', '38'], ['44', '98', '84', '61', '51', '69', '45', '57', '78'], ['77', '24', '12', '17', '54', '93', '85', '43', '29'], ['97', '45', '44', '72', '84', '21', '81', '63', '68', '64', '78', '39', '51', '56', '57', '42', '61'], ['12', '42', '38', '82', '81', '89', '45', '56', '21', '85', '95', '64', '83', '99', '13', '61', '14', '44', '63'], ['99', '83', '82', '21', '68', '14', '63', '75', '42', '89', '61', '12', '56', '95', '57', '29', '64', '85', '84', '48', '38'], ['99', '73', '48', '89', '95', '74', '68', '77', '29', '21', '72', '12', '64', '34', '96'], ['34', '63', '43', '72', '89', '95', '54', '93', '85', '64', '73', '17', '19', '96', '38'], ['29', '43', '94', '28', '24', '34', '19', '74', '95', '38', '77', '89', '48', '14', '75'], ['84', '78', '63', '83', '82', '68', '39', '99', '81', '57', '72', '69', '56', '27', '22'], ['42', '57', '48', '14', '95'], ['83', '57', '27', '33', '64', '69', '61', '72', '39', '68', '42', '97', '89', '85', '82', '56', '99', '84', '45', '44', '13'], ['78', '69', '94', '98', '22', '17', '97', '39', '84', '24', '34', '51', '83', '54', '33'], ['93', '98', '29', '43', '19', '22', '96', '71', '24', '73', '74'], ['85', '89', '81', '75', '38', '13', '48', '83', '14', '29', '82'], ['71', '38', '17', '29', '96', '95', '19', '85', '48', '74', '93', '54', '28', '34', '14', '94', '43'], ['72', '85', '95', '68', '57', '75', '84', '64', '42', '29', '81', '89', '14', '63', '48', '56', '82', '12', '83', '61', '38', '13', '99'], ['51', '13', '21', '81', '84'], ['42', '63', '75', '95', '77', '21', '85', '56', '13'], ['77', '12', '73', '93', '29', '95', '89', '28', '72', '19', '71', '63', '96', '34', '74', '38', '75', '54', '64'], ['78', '33', '19', '51', '73', '22', '39', '93', '74', '84', '13'], ['93', '51', '83', '57', '39', '17', '71', '22', '24'], ['98', '73', '71', '48', '17', '63', '64', '29', '93', '96', '89'], ['21', '13', '69', '44', '94', '84', '45', '82', '56', '72', '57', '61', '99'], ['39', '69', '22', '81', '24', '56', '44', '13', '94', '98', '83', '33', '51', '68', '97', '82', '61', '42', '45'], ['34', '68', '61', '72', '38', '85', '29', '77', '43', '75', '12', '99', '89', '28', '64', '82', '73', '81', '74', '95', '48', '14', '63'], ['64', '29', '72', '75', '43', '38', '13', '84', '99'], ['93', '28', '77', '43', '48', '38', '74', '71', '73', '34', '27', '96', '24', '14', '29', '51', '17', '22', '54', '75', '19', '98', '78'], ['45', '39', '56', '95', '21', '84', '99', '97', '72', '83', '63', '85', '42', '44', '61', '64', '68', '13', '81', '89', '57', '12', '69'], ['63', '85', '19', '71', '43', '29', '77', '93', '54', '14', '95', '73', '64', '74', '12', '28', '96', '34', '98'], ['27', '33', '69', '21', '84', '72', '99', '63', '13', '57', '89', '44', '83', '82', '42'], ['94', '78', '71', '51', '22', '93', '44', '19', '96', '39', '54', '27', '74', '73', '98', '34', '69', '28', '45', '83', '33', '24', '97'], ['69', '57', '22', '44', '99', '33', '27', '39', '51', '81', '13', '97', '56', '61', '68', '83', '42', '94', '82', '84', '24'], ['19', '64', '43', '54', '63', '75', '71', '38', '93', '73', '72', '14', '28', '17', '34', '48', '95'], ['28', '95', '74', '72', '14', '34', '81'], ['42', '83', '63', '21', '89', '38', '68', '75', '69', '64', '82'], ['96', '51', '27', '93', '98', '39', '44', '13', '45'], ['28', '14', '72', '12', '21', '82', '63', '56', '57', '89', '77', '43', '38', '61', '64', '68', '85', '48', '34', '81', '95'], ['61', '69', '42', '63', '78'], ['89', '38', '34', '73', '48', '29', '93', '28', '17', '95', '77', '74', '72'], ['71', '28', '77', '75', '96', '63', '81', '85', '21'], ['83', '42', '39', '61', '45', '97', '27', '84', '72'], ['95', '85', '77', '96', '73', '89', '71'], ['69', '22', '94', '39', '33', '83', '44', '24', '13', '54', '93', '45', '73']]\n"
     ]
    }
   ],
   "source": [
    "with open(\"instr.txt\", 'r') as f:\n",
    "    content = f.readlines()\n",
    "\n",
    "with open(\"list.txt\", 'r') as f2:\n",
    "    liste = f2.readlines()\n",
    "\n",
    "newListe = []\n",
    "\n",
    "for ligne in liste:\n",
    "    newListe.append(ligne.strip().split(','))\n",
    "\n",
    "tabFaux = []\n",
    "\n",
    "tab_vide = []\n",
    "\n",
    "tab = creationSet(content, tab_vide)\n",
    "\n",
    "somme = 0\n",
    "\n",
    "for ligne in newListe:\n",
    "    if checkLigne(ligne, tab):\n",
    "        somme += recupMiddle(ligne)\n",
    "    else:\n",
    "        tabFaux.append(ligne)\n",
    "\n",
    "print(tabFaux)\n"
   ]
  },
  {
   "cell_type": "code",
   "execution_count": 10,
   "metadata": {},
   "outputs": [
    {
     "ename": "KeyboardInterrupt",
     "evalue": "",
     "output_type": "error",
     "traceback": [
      "\u001b[1;31m---------------------------------------------------------------------------\u001b[0m",
      "\u001b[1;31mKeyboardInterrupt\u001b[0m                         Traceback (most recent call last)",
      "Cell \u001b[1;32mIn[10], line 8\u001b[0m\n\u001b[0;32m      6\u001b[0m count \u001b[38;5;241m=\u001b[39m \u001b[38;5;241m0\u001b[39m\n\u001b[0;32m      7\u001b[0m \u001b[38;5;28;01mwhile\u001b[39;00m \u001b[38;5;129;01mnot\u001b[39;00m checkLigne(ligne, tab):\n\u001b[1;32m----> 8\u001b[0m     ligne \u001b[38;5;241m=\u001b[39m removeErrorLigne(\u001b[43mlocateErrorLigne\u001b[49m\u001b[43m(\u001b[49m\u001b[43mligne\u001b[49m\u001b[43m,\u001b[49m\u001b[43m \u001b[49m\u001b[43mtab\u001b[49m\u001b[43m)\u001b[49m[\u001b[38;5;241m0\u001b[39m], locateErrorLigne(ligne, tab)[\u001b[38;5;241m1\u001b[39m], ligne)\n\u001b[0;32m      9\u001b[0m     count \u001b[38;5;241m+\u001b[39m\u001b[38;5;241m=\u001b[39m \u001b[38;5;241m1\u001b[39m\n\u001b[0;32m     10\u001b[0m somme \u001b[38;5;241m+\u001b[39m\u001b[38;5;241m=\u001b[39m recupMiddle(ligne)\n",
      "Cell \u001b[1;32mIn[7], line 11\u001b[0m, in \u001b[0;36mlocateErrorLigne\u001b[1;34m(ligne, tab)\u001b[0m\n\u001b[0;32m      9\u001b[0m \u001b[38;5;28;01mfor\u001b[39;00m i \u001b[38;5;129;01min\u001b[39;00m \u001b[38;5;28mrange\u001b[39m(\u001b[38;5;28mlen\u001b[39m(ligne)):\n\u001b[0;32m     10\u001b[0m     \u001b[38;5;28;01mfor\u001b[39;00m j \u001b[38;5;129;01min\u001b[39;00m \u001b[38;5;28mrange\u001b[39m(\u001b[38;5;241m0\u001b[39m, i):\n\u001b[1;32m---> 11\u001b[0m         setLigne \u001b[38;5;241m=\u001b[39m chercheSet(\u001b[38;5;28;43mint\u001b[39;49m\u001b[43m(\u001b[49m\u001b[43mligne\u001b[49m\u001b[43m[\u001b[49m\u001b[43mi\u001b[49m\u001b[43m]\u001b[49m\u001b[43m)\u001b[49m, tab)\n\u001b[0;32m     12\u001b[0m         \u001b[38;5;28;01mif\u001b[39;00m(setLigne \u001b[38;5;241m==\u001b[39m \u001b[38;5;28;01mNone\u001b[39;00m):\n\u001b[0;32m     13\u001b[0m             \u001b[38;5;28;01mpass\u001b[39;00m\n",
      "\u001b[1;31mKeyboardInterrupt\u001b[0m: "
     ]
    }
   ],
   "source": [
    "somme = 0\n",
    "\n",
    "testTab = [['78', '34', '43', '71', '33', '77', '93', '22', '17', '74', '73', '75', '97']]\n",
    "\n",
    "for ligne in tabFaux:\n",
    "    count = 0\n",
    "    while not checkLigne(ligne, tab):\n",
    "        ligne = removeErrorLigne(locateErrorLigne(ligne, tab)[0], locateErrorLigne(ligne, tab)[1], ligne)\n",
    "        count += 1\n",
    "    somme += recupMiddle(ligne)\n",
    "\n",
    "print(somme)"
   ]
  }
 ],
 "metadata": {
  "kernelspec": {
   "display_name": "Python 3",
   "language": "python",
   "name": "python3"
  },
  "language_info": {
   "codemirror_mode": {
    "name": "ipython",
    "version": 3
   },
   "file_extension": ".py",
   "mimetype": "text/x-python",
   "name": "python",
   "nbconvert_exporter": "python",
   "pygments_lexer": "ipython3",
   "version": "3.11.9"
  }
 },
 "nbformat": 4,
 "nbformat_minor": 2
}
