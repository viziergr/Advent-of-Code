{
 "cells": [
  {
   "cell_type": "markdown",
   "metadata": {},
   "source": [
    "# Septième jour du Advent of Code 2024\n",
    "\n",
    "Code 1*\n",
    "\n",
    "Le concept est le même que des chiffres et des lettres\n",
    "On a une valeur à atteindre avec des chiffres, les opérations possibles sont les additions et les multiplications\n",
    "\n",
    "Résolution:\n",
    "\n",
    "On doit aller de gauche à droite forcément.\n",
    "Donc on peut : \n",
    "pour chaque élément de la liste exemple ['3267']['81', '40', '27']:\n",
    "\n",
    "    1. On crée le couple (81, 40) qu'on additionne, ce qui donne (121) et qu'on multiplie, ce qui donne (3240)\n",
    "\n",
    "    2. On crée une nouvelle liste ['3267']['121', '27']\n",
    "\n",
    "    3. On crée le couple ('121', '27') qu'on additionne, ce qui donne (148)\n",
    "\n",
    "    4. Si on obtient la valeur recherchée (ici 3267), on s'arrête et on revoie True.\n",
    "\n",
    "    5. Sinon, au lieu d'additionner le couple, on le multiplie, ce qui donne (3267)\n",
    "\n",
    "    6. Si on obtient la valeur recherchée (le cas ici), on s'arrête.\n",
    "    \n",
    "    7. Sinon, on revient à l'étape 3 mais on multiplie au lieu d'additionner, et on refait les étapes.\n",
    "\n",
    "    8. Si on retrouve la valeur qu'on obtient en multipliant tous les chiffres de la liste et que ce n'est pas la valeur recherchée, alors la liste n'a pas de solution et on renvoie False\n"
   ]
  },
  {
   "cell_type": "code",
   "execution_count": 1,
   "metadata": {},
   "outputs": [],
   "source": [
    "def recupContent():\n",
    "    with open('input.txt', 'r') as f:\n",
    "        content = f.readlines()\n",
    "    return content\n",
    "\n",
    "content = recupContent()"
   ]
  },
  {
   "cell_type": "code",
   "execution_count": 2,
   "metadata": {},
   "outputs": [],
   "source": [
    "def parseLigne(ligne):\n",
    "    line = []\n",
    "    ligne = ligne.strip().split(':')\n",
    "    line.append(ligne[0])\n",
    "    ligne = ligne[1].split(' ')\n",
    "    ligne.pop(0)\n",
    "    line.append(ligne)\n",
    "    return line"
   ]
  },
  {
   "cell_type": "code",
   "execution_count": 3,
   "metadata": {},
   "outputs": [],
   "source": [
    "def sommeValeurs(tab):\n",
    "    return (int(tab[0]) + int(tab[1]))\n",
    "\n",
    "def produitValeurs(tab):\n",
    "    return (int(tab[0]) * int(tab[1]))\n",
    "\n",
    "def concatenValeur(tab):\n",
    "    return (int(str(tab[0])+str(tab[1])))"
   ]
  },
  {
   "cell_type": "code",
   "execution_count": 4,
   "metadata": {},
   "outputs": [],
   "source": [
    "def recChiffres(tab) -> bool:\n",
    "    \"\"\"\n",
    "    Fonction d'arrêt: 2 éléments dans la liste et leur somme ou leur multiplication est ou non la valeur recherchée\n",
    "    \"\"\"\n",
    "    valeurRecherchee = int(tab[0])\n",
    "    listeValeurs = tab[1]\n",
    "    \n",
    "    if(len(listeValeurs) == 2):\n",
    "        return (sommeValeurs(listeValeurs) == valeurRecherchee) or (produitValeurs(listeValeurs) == valeurRecherchee)\n",
    "    else:\n",
    "    \n",
    "        t1, t2, = [int(listeValeurs[0]) + int(listeValeurs[1])], [int(listeValeurs[0]) * int(listeValeurs[1])]\n",
    "\n",
    "        t1.extend(listeValeurs[2:])\n",
    "        t2.extend(listeValeurs[2:])\n",
    "        \n",
    "        return recChiffres([valeurRecherchee,t1]) or recChiffres([valeurRecherchee, t2])"
   ]
  },
  {
   "cell_type": "code",
   "execution_count": 5,
   "metadata": {},
   "outputs": [],
   "source": [
    "def main():\n",
    "    somme = 0\n",
    "    for line in content:\n",
    "        ligne = parseLigne(line)\n",
    "        if recChiffres(ligne):\n",
    "            somme += int(ligne[0])\n",
    "    print(somme)"
   ]
  },
  {
   "cell_type": "code",
   "execution_count": 6,
   "metadata": {},
   "outputs": [
    {
     "name": "stdout",
     "output_type": "stream",
     "text": [
      "7579994664753\n"
     ]
    }
   ],
   "source": [
    "main()"
   ]
  },
  {
   "cell_type": "markdown",
   "metadata": {},
   "source": [
    "Code 2*"
   ]
  },
  {
   "cell_type": "code",
   "execution_count": 7,
   "metadata": {},
   "outputs": [],
   "source": [
    "def recChiffres(tab) -> bool:\n",
    "    \"\"\"\n",
    "    Fonction d'arrêt: 2 éléments dans la liste et leur somme ou leur multiplication est ou non la valeur recherchée\n",
    "    \"\"\"\n",
    "    valeurRecherchee = int(tab[0])\n",
    "    listeValeurs = tab[1]\n",
    "    \n",
    "    if(len(listeValeurs) == 2):\n",
    "        return (sommeValeurs(listeValeurs) == valeurRecherchee) or (produitValeurs(listeValeurs) == valeurRecherchee) or (concatenValeur(listeValeurs) == valeurRecherchee)\n",
    "    else:\n",
    "    \n",
    "        t1, t2, t3 = [int(listeValeurs[0]) + int(listeValeurs[1])], [int(listeValeurs[0]) * int(listeValeurs[1])], [int(str(listeValeurs[0])+str(listeValeurs[1]))]\n",
    "\n",
    "        t1.extend(listeValeurs[2:])\n",
    "        t2.extend(listeValeurs[2:])\n",
    "        t3.extend(listeValeurs[2:])\n",
    "        \n",
    "        return recChiffres([valeurRecherchee,t1]) or recChiffres([valeurRecherchee, t2]) or recChiffres([valeurRecherchee, t3])"
   ]
  },
  {
   "cell_type": "code",
   "execution_count": 8,
   "metadata": {},
   "outputs": [
    {
     "name": "stdout",
     "output_type": "stream",
     "text": [
      "438027111276610\n"
     ]
    }
   ],
   "source": [
    "main()"
   ]
  }
 ],
 "metadata": {
  "kernelspec": {
   "display_name": "Python 3",
   "language": "python",
   "name": "python3"
  },
  "language_info": {
   "codemirror_mode": {
    "name": "ipython",
    "version": 3
   },
   "file_extension": ".py",
   "mimetype": "text/x-python",
   "name": "python",
   "nbconvert_exporter": "python",
   "pygments_lexer": "ipython3",
   "version": "3.11.9"
  }
 },
 "nbformat": 4,
 "nbformat_minor": 2
}
