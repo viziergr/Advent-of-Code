{
 "cells": [
  {
   "cell_type": "markdown",
   "metadata": {},
   "source": [
    "# Quatrième jour du Advent of Code 2024\n",
    "\n",
    "Code 1*\n",
    "\n",
    "2154\n",
    "2572"
   ]
  },
  {
   "cell_type": "code",
   "execution_count": 20,
   "metadata": {},
   "outputs": [
    {
     "name": "stdout",
     "output_type": "stream",
     "text": [
      "2572\n"
     ]
    }
   ],
   "source": [
    "with open('input.txt') as f:\n",
    "    content = f.read()\n",
    "\n",
    "## Crée le regex pour retrouver 'XMAS' et 'SAMX' dans les lignes\n",
    "import re\n",
    "patternXMAS = re.compile(r'XMAS')\n",
    "patternSAMX = re.compile(r'SAMX')\n",
    "\n",
    "nb = 0\n",
    "\n",
    "matches = re.findall(patternXMAS, content)\n",
    "nb += len(matches)\n",
    "matches = re.findall(patternSAMX, content)\n",
    "nb += len(matches)\n",
    "\n",
    "lines = content.split('\\n')\n",
    "for i in range(len(lines)):\n",
    "    for j in range(len(lines[i])):\n",
    "        # Diagonale bas droite\n",
    "        if i + 4 < len(lines) and j + 4 < len(lines[i]):\n",
    "            if lines[i][j] == 'X' and lines[i+1][j+1] == 'M' and lines[i+2][j+2] == 'A' and lines[i+3][j+3] == 'S':\n",
    "                nb += 1\n",
    "            if lines[i][j] == 'S' and lines[i+1][j+1] == 'A' and lines[i+2][j+2] == 'M' and lines[i+3][j+3] == 'X':\n",
    "                nb += 1\n",
    "        # Diagonale bas gauche\n",
    "        if i - 4 > 0 and j - 4 > 0:\n",
    "            if lines[i][j] == 'X' and lines[i-1][j-1] == 'M' and lines[i-2][j-2] == 'A' and lines[i-3][j-3] == 'S':\n",
    "                nb += 1\n",
    "            if lines[i][j] == 'S' and lines[i-1][j-1] == 'A' and lines[i-2][j-2] == 'M' and lines[i-3][j-3] == 'X':\n",
    "                nb += 1\n",
    "        # Verticale\n",
    "        if i + 4 < len(lines):\n",
    "            if lines[i][j] == 'X' and lines[i+1][j] == 'M' and lines[i+2][j] == 'A' and lines[i+3][j] == 'S':\n",
    "                nb += 1\n",
    "            if lines[i][j] == 'S' and lines[i+1][j] == 'A' and lines[i+2][j] == 'M' and lines[i+3][j] == 'X':\n",
    "                nb += 1\n",
    "\n",
    "\n",
    "\n",
    "print(nb)\n"
   ]
  },
  {
   "cell_type": "markdown",
   "metadata": {},
   "source": [
    "Code 2*"
   ]
  },
  {
   "cell_type": "code",
   "execution_count": null,
   "metadata": {},
   "outputs": [],
   "source": []
  }
 ],
 "metadata": {
  "kernelspec": {
   "display_name": "Python 3",
   "language": "python",
   "name": "python3"
  },
  "language_info": {
   "codemirror_mode": {
    "name": "ipython",
    "version": 3
   },
   "file_extension": ".py",
   "mimetype": "text/x-python",
   "name": "python",
   "nbconvert_exporter": "python",
   "pygments_lexer": "ipython3",
   "version": "3.11.9"
  }
 },
 "nbformat": 4,
 "nbformat_minor": 2
}
