{
 "cells": [
  {
   "cell_type": "markdown",
   "metadata": {},
   "source": [
    "# Premier jour du Advent of Code 2024\n",
    "\n",
    "Code 1*"
   ]
  },
  {
   "cell_type": "code",
   "execution_count": 6,
   "metadata": {},
   "outputs": [
    {
     "name": "stdout",
     "output_type": "stream",
     "text": [
      "2367773\n"
     ]
    }
   ],
   "source": [
    "gauche=[]\n",
    "droite=[]\n",
    "\n",
    "with open (\"input.txt\", 'r') as f:\n",
    "    for line in f:\n",
    "        gauche.append(line.split()[0])\n",
    "        droite.append(line.split()[1])\n",
    "\n",
    "## Fonction pour trier une liste de chiffres\n",
    "def tri(liste):\n",
    "    for i in range(len(liste)):\n",
    "        for j in range(i+1,len(liste)):\n",
    "            if(int(liste[i]) > int(liste[j])):\n",
    "                temp = liste[i]\n",
    "                liste[i] = liste[j]\n",
    "                liste[j] = temp\n",
    "    return liste\n",
    "\n",
    "def dist(gauche,droite):\n",
    "    dist = 0\n",
    "    for i in range(len(gauche)):\n",
    "        if(int(gauche[i]) < int(droite[i])):\n",
    "            dist += int(droite[i])-int(gauche[i])\n",
    "        else:\n",
    "            dist += int(gauche[i])-int(droite[i])\n",
    "    return dist\n",
    "\n",
    "print(dist(tri(gauche),tri(droite)))"
   ]
  },
  {
   "cell_type": "markdown",
   "metadata": {},
   "source": [
    "Code 2*"
   ]
  },
  {
   "cell_type": "code",
   "execution_count": null,
   "metadata": {},
   "outputs": [
    {
     "name": "stdout",
     "output_type": "stream",
     "text": [
      "21271939\n"
     ]
    }
   ],
   "source": [
    "gauche=[]\n",
    "droite=[]\n",
    "\n",
    "with open (\"input.txt\", 'r') as f:\n",
    "    for line in f:\n",
    "        gauche.append(line.split()[0])\n",
    "        droite.append(line.split()[1])\n",
    "\n",
    "def score(gauche,droite):\n",
    "    similarite=0\n",
    "    for i in gauche:\n",
    "        occurence=0\n",
    "        for j in droite:\n",
    "            if int(i)==int(j):\n",
    "                occurence+=1\n",
    "        similarite+=occurence*int(i)\n",
    "    return similarite\n",
    "\n",
    "print(score(gauche,droite))\n",
    "\n"
   ]
  }
 ],
 "metadata": {
  "kernelspec": {
   "display_name": "Python 3",
   "language": "python",
   "name": "python3"
  },
  "language_info": {
   "codemirror_mode": {
    "name": "ipython",
    "version": 3
   },
   "file_extension": ".py",
   "mimetype": "text/x-python",
   "name": "python",
   "nbconvert_exporter": "python",
   "pygments_lexer": "ipython3",
   "version": "3.11.9"
  }
 },
 "nbformat": 4,
 "nbformat_minor": 2
}
